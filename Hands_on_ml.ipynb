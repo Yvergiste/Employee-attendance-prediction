{
 "cells": [
  {
   "cell_type": "markdown",
   "id": "8a1b9cbe-57a8-4d0e-a706-ca494ebb3c4c",
   "metadata": {},
   "source": [
    "## I. Fundamentals of Machine learning (ml)\n",
    "\n",
    "**Machine learning** is programming computer to learn from data to solve complex problems. example of ml model; spam filter, "
   ]
  },
  {
   "cell_type": "markdown",
   "id": "ae8aabad-58a9-4d58-9c33-42b8b4d147d8",
   "metadata": {},
   "source": [
    "## II. Setting up the working directory\n",
    "\n",
    "**1. open cmd**\n",
    "- use ***cd*** to change the folder´s directory to the chosen new one.\n",
    "\n",
    "**2. check the availability and install jupyter notebook**\n",
    "**steps**\n",
    " - ***python -m pip show jupyter***\n",
    " - if not available, ***pip install jupyter***\n",
    "\n",
    "**Notice:** if the ***pip*** *(python package manager for python)* is not updated, for installing the required packages, update it:  ***python -m pip install --upgrade pip***\n",
    "\n",
    "**3. set up the virtual environment**\n",
    "**Steps**\n",
    "- under the directory, check if ***virtualenv*** is installed using the command, ***python -m pip show virtualenv***\n",
    "- if not installed, Install virtualenv using command, ***python -m pip install virtualenv***  or alternatively use Python's built-in venv module instead:***python -m venv my_env*** (This will create a virtual environment named my_env.)\n",
    "- Activate the virtual environment ***my_env\\Scripts\\activate***\n",
    "\n",
    "\n",
    "**4. Check the availability and install ipykernel**()\n",
    "**steps**\n",
    "- check whether it is installed ***python -m pip show ipykernel***\n",
    "- if not, ***pip install ipykernel***\n",
    "- Register the Virtual Environment in Jupyter. ***python -m ipykernel install --user --name=my_env --display-name \"Python (my_env)\"***, replacing **my_env** with your **virtual environment name**\n",
    "- verify installation, ***jupyter kernelspec list***\n",
    "- Use the Environment in Jupyter Notebook, Start Jupyter Notebook:***jupyter notebook***\n",
    "- Then, select **Python (my_env)** *(use the name replaced my_env instead)* from the available kernels.\n",
    "- start coding in the chosen kernel.\n",
    "\n",
    "\n",
    "**Notice:** To deactivate this environment, type deactivate. While the environment is active,\n",
    "any package you install using pip will be installed in this isolated environment, and\n",
    "Python will only have access to these packages (if you also want access to the system’s\n",
    "packages, you should create the environment using virtualenv’s --system-sitepackages option)\n",
    "\n",
    "***In addition, when you want to working within the certain directory, you first open cmd, change directory \"cd\", activate the environment, and then open the jupyter notebook within the environment.***"
   ]
  },
  {
   "cell_type": "markdown",
   "id": "b5cbc948-21de-4119-86a9-86a1105bd5d7",
   "metadata": {},
   "source": [
    "# 1. Download data\n",
    "create a function that downloads data. "
   ]
  },
  {
   "cell_type": "code",
   "execution_count": null,
   "id": "8d9ebaa4-4c7d-4394-bc80-2db29803b7d3",
   "metadata": {},
   "outputs": [],
   "source": []
  }
 ],
 "metadata": {
  "kernelspec": {
   "display_name": "Python (my_project_env)",
   "language": "python",
   "name": "my_project_env"
  },
  "language_info": {
   "codemirror_mode": {
    "name": "ipython",
    "version": 3
   },
   "file_extension": ".py",
   "mimetype": "text/x-python",
   "name": "python",
   "nbconvert_exporter": "python",
   "pygments_lexer": "ipython3",
   "version": "3.12.8"
  }
 },
 "nbformat": 4,
 "nbformat_minor": 5
}
