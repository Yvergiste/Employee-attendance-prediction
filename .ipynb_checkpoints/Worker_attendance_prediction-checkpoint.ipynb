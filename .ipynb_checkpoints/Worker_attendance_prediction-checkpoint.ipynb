{
 "cells": [
  {
   "cell_type": "markdown",
   "id": "83ce2cb5-b8f7-4e35-8844-42df9a521b38",
   "metadata": {},
   "source": [
    "## 1. Data Preprocessing "
   ]
  },
  {
   "cell_type": "code",
   "execution_count": 18,
   "id": "76177534-d3de-410e-a997-79ed77bf8f62",
   "metadata": {},
   "outputs": [],
   "source": [
    "# import primary libraries\n",
    "import pandas as pd\n",
    "import numpy as np\n",
    "import matplotlib.pyplot as plt\n",
    "import seaborn as sns\n",
    "import joblib\n",
    "from sklearn.model_selection import train_test_split\n",
    "from sklearn.preprocessing import StandardScaler, LabelEncoder\n"
   ]
  },
  {
   "cell_type": "code",
   "execution_count": 19,
   "id": "24bba244-632a-4577-a373-bcd8f3a748ab",
   "metadata": {
    "scrolled": true
   },
   "outputs": [
    {
     "data": {
      "text/html": [
       "<div>\n",
       "<style scoped>\n",
       "    .dataframe tbody tr th:only-of-type {\n",
       "        vertical-align: middle;\n",
       "    }\n",
       "\n",
       "    .dataframe tbody tr th {\n",
       "        vertical-align: top;\n",
       "    }\n",
       "\n",
       "    .dataframe thead th {\n",
       "        text-align: right;\n",
       "    }\n",
       "</style>\n",
       "<table border=\"1\" class=\"dataframe\">\n",
       "  <thead>\n",
       "    <tr style=\"text-align: right;\">\n",
       "      <th></th>\n",
       "      <th>ID</th>\n",
       "      <th>Reason_for_absence</th>\n",
       "      <th>Month_of_absence</th>\n",
       "      <th>Day_of_the_week</th>\n",
       "      <th>Seasons</th>\n",
       "      <th>Transportation_expense</th>\n",
       "      <th>Distance_from_Residence_to_Work</th>\n",
       "      <th>Service_time</th>\n",
       "      <th>Age</th>\n",
       "      <th>Work_load_Average/day_</th>\n",
       "      <th>...</th>\n",
       "      <th>Disciplinary_failure</th>\n",
       "      <th>Education</th>\n",
       "      <th>Son</th>\n",
       "      <th>Social_drinker</th>\n",
       "      <th>Social_smoker</th>\n",
       "      <th>Pet</th>\n",
       "      <th>Weight</th>\n",
       "      <th>Height</th>\n",
       "      <th>Body_mass_index</th>\n",
       "      <th>Absenteeism_time_in_hours</th>\n",
       "    </tr>\n",
       "  </thead>\n",
       "  <tbody>\n",
       "    <tr>\n",
       "      <th>0</th>\n",
       "      <td>11</td>\n",
       "      <td>26</td>\n",
       "      <td>7</td>\n",
       "      <td>3</td>\n",
       "      <td>1</td>\n",
       "      <td>289</td>\n",
       "      <td>36</td>\n",
       "      <td>13</td>\n",
       "      <td>33</td>\n",
       "      <td>239554</td>\n",
       "      <td>...</td>\n",
       "      <td>0</td>\n",
       "      <td>1</td>\n",
       "      <td>2</td>\n",
       "      <td>1</td>\n",
       "      <td>0</td>\n",
       "      <td>1</td>\n",
       "      <td>90</td>\n",
       "      <td>172</td>\n",
       "      <td>30</td>\n",
       "      <td>4</td>\n",
       "    </tr>\n",
       "    <tr>\n",
       "      <th>1</th>\n",
       "      <td>36</td>\n",
       "      <td>0</td>\n",
       "      <td>7</td>\n",
       "      <td>3</td>\n",
       "      <td>1</td>\n",
       "      <td>118</td>\n",
       "      <td>13</td>\n",
       "      <td>18</td>\n",
       "      <td>50</td>\n",
       "      <td>239554</td>\n",
       "      <td>...</td>\n",
       "      <td>1</td>\n",
       "      <td>1</td>\n",
       "      <td>1</td>\n",
       "      <td>1</td>\n",
       "      <td>0</td>\n",
       "      <td>0</td>\n",
       "      <td>98</td>\n",
       "      <td>178</td>\n",
       "      <td>31</td>\n",
       "      <td>0</td>\n",
       "    </tr>\n",
       "    <tr>\n",
       "      <th>2</th>\n",
       "      <td>3</td>\n",
       "      <td>23</td>\n",
       "      <td>7</td>\n",
       "      <td>4</td>\n",
       "      <td>1</td>\n",
       "      <td>179</td>\n",
       "      <td>51</td>\n",
       "      <td>18</td>\n",
       "      <td>38</td>\n",
       "      <td>239554</td>\n",
       "      <td>...</td>\n",
       "      <td>0</td>\n",
       "      <td>1</td>\n",
       "      <td>0</td>\n",
       "      <td>1</td>\n",
       "      <td>0</td>\n",
       "      <td>0</td>\n",
       "      <td>89</td>\n",
       "      <td>170</td>\n",
       "      <td>31</td>\n",
       "      <td>2</td>\n",
       "    </tr>\n",
       "    <tr>\n",
       "      <th>3</th>\n",
       "      <td>7</td>\n",
       "      <td>7</td>\n",
       "      <td>7</td>\n",
       "      <td>5</td>\n",
       "      <td>1</td>\n",
       "      <td>279</td>\n",
       "      <td>5</td>\n",
       "      <td>14</td>\n",
       "      <td>39</td>\n",
       "      <td>239554</td>\n",
       "      <td>...</td>\n",
       "      <td>0</td>\n",
       "      <td>1</td>\n",
       "      <td>2</td>\n",
       "      <td>1</td>\n",
       "      <td>1</td>\n",
       "      <td>0</td>\n",
       "      <td>68</td>\n",
       "      <td>168</td>\n",
       "      <td>24</td>\n",
       "      <td>4</td>\n",
       "    </tr>\n",
       "    <tr>\n",
       "      <th>4</th>\n",
       "      <td>11</td>\n",
       "      <td>23</td>\n",
       "      <td>7</td>\n",
       "      <td>5</td>\n",
       "      <td>1</td>\n",
       "      <td>289</td>\n",
       "      <td>36</td>\n",
       "      <td>13</td>\n",
       "      <td>33</td>\n",
       "      <td>239554</td>\n",
       "      <td>...</td>\n",
       "      <td>0</td>\n",
       "      <td>1</td>\n",
       "      <td>2</td>\n",
       "      <td>1</td>\n",
       "      <td>0</td>\n",
       "      <td>1</td>\n",
       "      <td>90</td>\n",
       "      <td>172</td>\n",
       "      <td>30</td>\n",
       "      <td>2</td>\n",
       "    </tr>\n",
       "  </tbody>\n",
       "</table>\n",
       "<p>5 rows × 21 columns</p>\n",
       "</div>"
      ],
      "text/plain": [
       "   ID  Reason_for_absence  Month_of_absence  Day_of_the_week  Seasons  \\\n",
       "0  11                  26                 7                3        1   \n",
       "1  36                   0                 7                3        1   \n",
       "2   3                  23                 7                4        1   \n",
       "3   7                   7                 7                5        1   \n",
       "4  11                  23                 7                5        1   \n",
       "\n",
       "   Transportation_expense  Distance_from_Residence_to_Work  Service_time  Age  \\\n",
       "0                     289                               36            13   33   \n",
       "1                     118                               13            18   50   \n",
       "2                     179                               51            18   38   \n",
       "3                     279                                5            14   39   \n",
       "4                     289                               36            13   33   \n",
       "\n",
       "   Work_load_Average/day_  ...  Disciplinary_failure  Education  Son  \\\n",
       "0                  239554  ...                     0          1    2   \n",
       "1                  239554  ...                     1          1    1   \n",
       "2                  239554  ...                     0          1    0   \n",
       "3                  239554  ...                     0          1    2   \n",
       "4                  239554  ...                     0          1    2   \n",
       "\n",
       "   Social_drinker  Social_smoker  Pet  Weight  Height  Body_mass_index  \\\n",
       "0               1              0    1      90     172               30   \n",
       "1               1              0    0      98     178               31   \n",
       "2               1              0    0      89     170               31   \n",
       "3               1              1    0      68     168               24   \n",
       "4               1              0    1      90     172               30   \n",
       "\n",
       "   Absenteeism_time_in_hours  \n",
       "0                          4  \n",
       "1                          0  \n",
       "2                          2  \n",
       "3                          4  \n",
       "4                          2  \n",
       "\n",
       "[5 rows x 21 columns]"
      ]
     },
     "execution_count": 19,
     "metadata": {},
     "output_type": "execute_result"
    }
   ],
   "source": [
    "# load the dataset from Kaggle datasource. \n",
    "data = pd.read_excel(r'C:\\Users\\PATH TECH\\OneDrive\\Desktop\\COURSES\\Data science\\Hands_on_ml\\data_sets\\Absenteesim_at_work\\Absenteeism_at_work.xls')\n",
    "\n",
    "# trim spaces in the column names\n",
    "data.columns = data.columns.str.replace(\" \", \"_\")\n",
    "data.head()\n"
   ]
  },
  {
   "cell_type": "code",
   "execution_count": 20,
   "id": "b40191b9-2220-4276-b701-85a062f20c79",
   "metadata": {},
   "outputs": [
    {
     "name": "stdout",
     "output_type": "stream",
     "text": [
      "<class 'pandas.core.frame.DataFrame'>\n",
      "RangeIndex: 740 entries, 0 to 739\n",
      "Data columns (total 21 columns):\n",
      " #   Column                           Non-Null Count  Dtype\n",
      "---  ------                           --------------  -----\n",
      " 0   ID                               740 non-null    int64\n",
      " 1   Reason_for_absence               740 non-null    int64\n",
      " 2   Month_of_absence                 740 non-null    int64\n",
      " 3   Day_of_the_week                  740 non-null    int64\n",
      " 4   Seasons                          740 non-null    int64\n",
      " 5   Transportation_expense           740 non-null    int64\n",
      " 6   Distance_from_Residence_to_Work  740 non-null    int64\n",
      " 7   Service_time                     740 non-null    int64\n",
      " 8   Age                              740 non-null    int64\n",
      " 9   Work_load_Average/day_           740 non-null    int64\n",
      " 10  Hit_target                       740 non-null    int64\n",
      " 11  Disciplinary_failure             740 non-null    int64\n",
      " 12  Education                        740 non-null    int64\n",
      " 13  Son                              740 non-null    int64\n",
      " 14  Social_drinker                   740 non-null    int64\n",
      " 15  Social_smoker                    740 non-null    int64\n",
      " 16  Pet                              740 non-null    int64\n",
      " 17  Weight                           740 non-null    int64\n",
      " 18  Height                           740 non-null    int64\n",
      " 19  Body_mass_index                  740 non-null    int64\n",
      " 20  Absenteeism_time_in_hours        740 non-null    int64\n",
      "dtypes: int64(21)\n",
      "memory usage: 121.5 KB\n",
      "None\n"
     ]
    }
   ],
   "source": [
    "print(data.info())"
   ]
  },
  {
   "cell_type": "markdown",
   "id": "dbd91bbe-0287-44eb-820b-9a393441a98b",
   "metadata": {},
   "source": [
    "## 2. Model selection and training"
   ]
  },
  {
   "cell_type": "code",
   "execution_count": 21,
   "id": "da32790d-b0f6-4fb3-87ce-277a372dccd1",
   "metadata": {},
   "outputs": [
    {
     "name": "stdout",
     "output_type": "stream",
     "text": [
      "   Reason_for_absence  Month_of_absence  Day_of_the_week  Seasons  \\\n",
      "0                  26                 7                3        1   \n",
      "1                   0                 7                3        1   \n",
      "2                  23                 7                4        1   \n",
      "3                   7                 7                5        1   \n",
      "4                  23                 7                5        1   \n",
      "\n",
      "   Transportation_expense  Distance_from_Residence_to_Work  Service_time  Age  \\\n",
      "0                     289                               36            13   33   \n",
      "1                     118                               13            18   50   \n",
      "2                     179                               51            18   38   \n",
      "3                     279                                5            14   39   \n",
      "4                     289                               36            13   33   \n",
      "\n",
      "   Work_load_Average/day_  Hit_target  Disciplinary_failure  Education  Son  \\\n",
      "0                  239554          97                     0          1    2   \n",
      "1                  239554          97                     1          1    1   \n",
      "2                  239554          97                     0          1    0   \n",
      "3                  239554          97                     0          1    2   \n",
      "4                  239554          97                     0          1    2   \n",
      "\n",
      "   Social_drinker  Social_smoker  Pet  Weight  Height  Body_mass_index  Absent  \n",
      "0               1              0    1      90     172               30       1  \n",
      "1               1              0    0      98     178               31       0  \n",
      "2               1              0    0      89     170               31       1  \n",
      "3               1              1    0      68     168               24       1  \n",
      "4               1              0    1      90     172               30       1  \n"
     ]
    }
   ],
   "source": [
    "# Define the target variable: If absenteeism time > 0, mark as 'Absent' (1), else 'Present' (0)\n",
    "data['Absent'] = (data['Absenteeism_time_in_hours'] > 0).astype(int)\n",
    "\n",
    "# Drop the the unnecessary columns including \"ID\"and \"Absenteeism_time_in_hours\" column\n",
    "data.drop(columns=[\"ID\",\"Absenteeism_time_in_hours\"], inplace=True)\n",
    "\n",
    "# Display updated dataset first few rows\n",
    "print(data.head())\n"
   ]
  },
  {
   "cell_type": "code",
   "execution_count": 22,
   "id": "7c3cd0fb-f121-4f31-bd72-154476fe42c0",
   "metadata": {},
   "outputs": [],
   "source": [
    "# Define categorical columns that need encoding\n",
    "categorical_features = [\"Reason_for_absence\", \"Month_of_absence\", \"Day_of_the_week\", \"Seasons\", \"Education\"]\n",
    "\n",
    "# Convert categorical features to categorical type\n",
    "data[categorical_features] = data[categorical_features].astype(\"category\")\n"
   ]
  },
  {
   "cell_type": "code",
   "execution_count": 23,
   "id": "970ad2f5-260c-4979-95c7-cb1fcf7daa4f",
   "metadata": {},
   "outputs": [
    {
     "name": "stdout",
     "output_type": "stream",
     "text": [
      "Training set: (592, 63), Testing set: (148, 63)\n"
     ]
    }
   ],
   "source": [
    "\n",
    "\n",
    "    # Apply one-hot encoding to categorical features\n",
    "    data = pd.get_dummies(data, columns=categorical_features, drop_first=True)\n",
    "\n",
    "    # Split dataset into features (X) and target (Y)\n",
    "    x = data.drop(columns=[\"Absent\"])  \n",
    "    y = data[\"Absent\"]\n",
    "\n",
    "    # Split data into training (80%) and testing sets (20%)\n",
    "    x_train, x_test, y_train, y_test = train_test_split(x, y, test_size=0.2, random_state=42, stratify=y)\n",
    "\n",
    "    print(f\"Training set: {x_train.shape}, Testing set: {x_test.shape}\")"
   ]
  },
  {
   "cell_type": "code",
   "execution_count": 24,
   "id": "4ee90a6c-273f-448e-bc15-8d40515a80c1",
   "metadata": {},
   "outputs": [],
   "source": [
    "\n",
    "# Standardize numerical features for model performance improvement\n",
    "scaler = StandardScaler()\n",
    "x_scaled = scaler.fit_transform(x)\n",
    "\n",
    "# Fit and transform the training data, then transform the test data\n",
    "X_train_scaled = scaler.fit_transform(x_train)\n",
    "X_test_scaled = scaler.transform(x_test)\n"
   ]
  },
  {
   "cell_type": "markdown",
   "id": "46c9f56b-0b71-4b2c-b873-634f5dc74c04",
   "metadata": {},
   "source": [
    "## 3. Model evaluation "
   ]
  },
  {
   "cell_type": "code",
   "execution_count": 25,
   "id": "16a65852-ee7b-4f0d-beb5-2e950a68c44a",
   "metadata": {},
   "outputs": [
    {
     "name": "stdout",
     "output_type": "stream",
     "text": [
      "Model Accuracy: 0.99\n",
      "              precision    recall  f1-score   support\n",
      "\n",
      "           0       1.00      0.78      0.88         9\n",
      "           1       0.99      1.00      0.99       139\n",
      "\n",
      "    accuracy                           0.99       148\n",
      "   macro avg       0.99      0.89      0.93       148\n",
      "weighted avg       0.99      0.99      0.99       148\n",
      "\n"
     ]
    }
   ],
   "source": [
    "# Model 1: Logistics regression \n",
    "\n",
    "# Import the basic libraries\n",
    "from sklearn.linear_model import LogisticRegression\n",
    "from sklearn.metrics import accuracy_score, classification_report\n",
    "\n",
    "# Initialize the model\n",
    "model = LogisticRegression()\n",
    "\n",
    "# Train the model\n",
    "model.fit(X_train_scaled, y_train)\n",
    "\n",
    "# Make predictions\n",
    "y_pred = model.predict(X_test_scaled)\n",
    "\n",
    "# Evaluate performance\n",
    "accuracy = accuracy_score(y_test, y_pred)\n",
    "print(f\"Model Accuracy: {accuracy:.2f}\")\n",
    "print(classification_report(y_test, y_pred))"
   ]
  },
  {
   "cell_type": "code",
   "execution_count": 26,
   "id": "bc491d22-20e2-4d1c-aa5d-276eee30ed01",
   "metadata": {},
   "outputs": [
    {
     "name": "stdout",
     "output_type": "stream",
     "text": [
      "Random Forest Accuracy: 0.99\n",
      "              precision    recall  f1-score   support\n",
      "\n",
      "           0       1.00      0.78      0.88         9\n",
      "           1       0.99      1.00      0.99       139\n",
      "\n",
      "    accuracy                           0.99       148\n",
      "   macro avg       0.99      0.89      0.93       148\n",
      "weighted avg       0.99      0.99      0.99       148\n",
      "\n"
     ]
    }
   ],
   "source": [
    "# Model 2: Random Forest\n",
    "\n",
    "#import basic libraries\n",
    "from sklearn.ensemble import RandomForestClassifier\n",
    "\n",
    "# Initialize the Random Forest model\n",
    "rf_model = RandomForestClassifier(n_estimators=100, random_state=42)\n",
    "\n",
    "# Train the model\n",
    "rf_model.fit(X_train_scaled, y_train)\n",
    "\n",
    "# Make predictions\n",
    "y_pred_rf = rf_model.predict(X_test_scaled)\n",
    "\n",
    "# Evaluate performance\n",
    "accuracy_rf = accuracy_score(y_test, y_pred_rf)\n",
    "print(f\"Random Forest Accuracy: {accuracy_rf:.2f}\")\n",
    "print(classification_report(y_test, y_pred_rf))"
   ]
  },
  {
   "cell_type": "code",
   "execution_count": 30,
   "id": "89a4c1ad-4696-4694-bff4-95dbda5f62ea",
   "metadata": {},
   "outputs": [
    {
     "data": {
      "text/plain": [
       "['C:/Users/PATH TECH/OneDrive/Desktop/COURSES/Data science/Hands_on_ml/scaler.joblib']"
      ]
     },
     "execution_count": 30,
     "metadata": {},
     "output_type": "execute_result"
    }
   ],
   "source": [
    "# Save the trained model and scaler\n",
    "model_save_path = \"C:/Users/PATH TECH/OneDrive/Desktop/COURSES/Data science/Hands_on_ml/rf_model.joblib\"\n",
    "scaler_save_path = \"C:/Users/PATH TECH/OneDrive/Desktop/COURSES/Data science/Hands_on_ml/scaler.joblib\"\n",
    "\n",
    "joblib.dump(rf_model, model_save_path)\n",
    "joblib.dump(scaler, scaler_save_path)\n"
   ]
  },
  {
   "cell_type": "code",
   "execution_count": 31,
   "id": "5403242a-de89-4db0-8dda-ee8c8abfecf4",
   "metadata": {},
   "outputs": [
    {
     "data": {
      "text/plain": [
       "('C:/Users/PATH TECH/OneDrive/Desktop/COURSES/Data science/Hands_on_ml/rf_model.joblib',\n",
       " 'C:/Users/PATH TECH/OneDrive/Desktop/COURSES/Data science/Hands_on_ml/scaler.joblib',\n",
       " 0.9864864864864865)"
      ]
     },
     "execution_count": 31,
     "metadata": {},
     "output_type": "execute_result"
    }
   ],
   "source": [
    "# Return saved model paths and accuracy\n",
    "model_save_path, scaler_save_path, accuracy_rf"
   ]
  },
  {
   "cell_type": "code",
   "execution_count": 10,
   "id": "e19b61ff-2a54-4156-b35e-af0b078b00ca",
   "metadata": {},
   "outputs": [],
   "source": [
    "# Extract feature importance\n",
    "feature_importances = rf_model.feature_importances_\n",
    "feature_names = x.columns\n",
    "\n",
    "# Sort features by importance\n",
    "sorted_indices = np.argsort(feature_importances)[::-1]\n"
   ]
  },
  {
   "cell_type": "code",
   "execution_count": 11,
   "id": "d02afedc-156f-4d2c-9748-8930e891a279",
   "metadata": {},
   "outputs": [],
   "source": [
    "# Prepare data for visualization\n",
    "important_features_df = pd.DataFrame({\n",
    "    'Feature': feature_names[sorted_indices],\n",
    "    'Importance': feature_importances[sorted_indices]\n",
    "})\n"
   ]
  },
  {
   "cell_type": "code",
   "execution_count": 13,
   "id": "77afb925-191a-472d-a5b7-785a9328879c",
   "metadata": {},
   "outputs": [
    {
     "name": "stdout",
     "output_type": "stream",
     "text": [
      "Random Forest Accuracy: 0.99\n"
     ]
    }
   ],
   "source": [
    "# Display classification report and feature importance visualization\n",
    "import matplotlib.pyplot as plt\n",
    "import ace_tools_open as tools\n",
    "\n",
    "print(f\"Random Forest Accuracy: {accuracy_rf:.2f}\")\n"
   ]
  },
  {
   "cell_type": "code",
   "execution_count": 14,
   "id": "979a4a7d-75dc-49cd-b878-a842616a5aa0",
   "metadata": {},
   "outputs": [
    {
     "data": {
      "image/png": "[encoded data removed]",
      "text/plain": [
       "<Figure size 1000x600 with 1 Axes>"
      ]
     },
     "metadata": {},
     "output_type": "display_data"
    },
    {
     "name": "stdout",
     "output_type": "stream",
     "text": [
      "Feature Importance\n"
     ]
    },
    {
     "data": {
      "text/html": [
       "<table id=\"itables_e79ac233_4347_4203_b6b8_a9c7c9889ec0\" class=\"display nowrap\" data-quarto-disable-processing=\"true\" style=\"table-layout:auto;width:auto;margin:auto;caption-side:bottom\">\n",
       "<thead>\n",
       "    <tr style=\"text-align: right;\">\n",
       "      \n",
       "      <th>Feature</th>\n",
       "      <th>Importance</th>\n",
       "    </tr>\n",
       "  </thead><tbody><tr>\n",
       "<td style=\"vertical-align:middle; text-align:left\">\n",
       "<a href=https://mwouts.github.io/itables/><svg class=\"main-svg\" xmlns=\"http://www.w3.org/2000/svg\" xmlns:xlink=\"http://www.w3.org/1999/xlink\"\n",
       "width=\"64\" viewBox=\"0 0 500 400\" style=\"font-family: 'Droid Sans', sans-serif;\">\n",
       "    <g style=\"fill:#d9d7fc\">\n",
       "        <path d=\"M100,400H500V357H100Z\" />\n",
       "        <path d=\"M100,300H400V257H100Z\" />\n",
       "        <path d=\"M0,200H400V157H0Z\" />\n",
       "        <path d=\"M100,100H500V57H100Z\" />\n",
       "        <path d=\"M100,350H500V307H100Z\" />\n",
       "        <path d=\"M100,250H400V207H100Z\" />\n",
       "        <path d=\"M0,150H400V107H0Z\" />\n",
       "        <path d=\"M100,50H500V7H100Z\" />\n",
       "    </g>\n",
       "    <g style=\"fill:#1a1366;stroke:#1a1366;\">\n",
       "   <rect x=\"100\" y=\"7\" width=\"400\" height=\"43\">\n",
       "    <animate\n",
       "      attributeName=\"width\"\n",
       "      values=\"0;400;0\"\n",
       "      dur=\"5s\"\n",
       "      repeatCount=\"indefinite\" />\n",
       "      <animate\n",
       "      attributeName=\"x\"\n",
       "      values=\"100;100;500\"\n",
       "      dur=\"5s\"\n",
       "      repeatCount=\"indefinite\" />\n",
       "  </rect>\n",
       "        <rect x=\"0\" y=\"107\" width=\"400\" height=\"43\">\n",
       "    <animate\n",
       "      attributeName=\"width\"\n",
       "      values=\"0;400;0\"\n",
       "      dur=\"3.5s\"\n",
       "      repeatCount=\"indefinite\" />\n",
       "    <animate\n",
       "      attributeName=\"x\"\n",
       "      values=\"0;0;400\"\n",
       "      dur=\"3.5s\"\n",
       "      repeatCount=\"indefinite\" />\n",
       "  </rect>\n",
       "        <rect x=\"100\" y=\"207\" width=\"300\" height=\"43\">\n",
       "    <animate\n",
       "      attributeName=\"width\"\n",
       "      values=\"0;300;0\"\n",
       "      dur=\"3s\"\n",
       "      repeatCount=\"indefinite\" />\n",
       "    <animate\n",
       "      attributeName=\"x\"\n",
       "      values=\"100;100;400\"\n",
       "      dur=\"3s\"\n",
       "      repeatCount=\"indefinite\" />\n",
       "  </rect>\n",
       "        <rect x=\"100\" y=\"307\" width=\"400\" height=\"43\">\n",
       "    <animate\n",
       "      attributeName=\"width\"\n",
       "      values=\"0;400;0\"\n",
       "      dur=\"4s\"\n",
       "      repeatCount=\"indefinite\" />\n",
       "      <animate\n",
       "      attributeName=\"x\"\n",
       "      values=\"100;100;500\"\n",
       "      dur=\"4s\"\n",
       "      repeatCount=\"indefinite\" />\n",
       "  </rect>\n",
       "        <g style=\"fill:transparent;stroke-width:8; stroke-linejoin:round\" rx=\"5\">\n",
       "            <g transform=\"translate(45 50) rotate(-45)\">\n",
       "                <circle r=\"33\" cx=\"0\" cy=\"0\" />\n",
       "                <rect x=\"-8\" y=\"32\" width=\"16\" height=\"30\" />\n",
       "            </g>\n",
       "\n",
       "            <g transform=\"translate(450 152)\">\n",
       "                <polyline points=\"-15,-20 -35,-20 -35,40 25,40 25,20\" />\n",
       "                <rect x=\"-15\" y=\"-40\" width=\"60\" height=\"60\" />\n",
       "            </g>\n",
       "\n",
       "            <g transform=\"translate(50 352)\">\n",
       "                <polygon points=\"-35,-5 0,-40 35,-5\" />\n",
       "                <polygon points=\"-35,10 0,45 35,10\" />\n",
       "            </g>\n",
       "\n",
       "            <g transform=\"translate(75 250)\">\n",
       "                <polyline points=\"-30,30 -60,0 -30,-30\" />\n",
       "                <polyline points=\"0,30 -30,0 0,-30\" />\n",
       "            </g>\n",
       "\n",
       "            <g transform=\"translate(425 250) rotate(180)\">\n",
       "                <polyline points=\"-30,30 -60,0 -30,-30\" />\n",
       "                <polyline points=\"0,30 -30,0 0,-30\" />\n",
       "            </g>\n",
       "        </g>\n",
       "    </g>\n",
       "</svg>\n",
       "</a>\n",
       "Loading ITables v2.2.4 from the internet...\n",
       "(need <a href=https://mwouts.github.io/itables/troubleshooting.html>help</a>?)</td>\n",
       "</tr></tbody>\n",
       "</table>\n",
       "<link href=\"https://www.unpkg.com/dt_for_itables@2.0.13/dt_bundle.css\" rel=\"stylesheet\">\n",
       "<script type=\"module\">\n",
       "    import {DataTable, jQuery as $} from 'https://www.unpkg.com/dt_for_itables@2.0.13/dt_bundle.js';\n",
       "\n",
       "    document.querySelectorAll(\"#itables_e79ac233_4347_4203_b6b8_a9c7c9889ec0:not(.dataTable)\").forEach(table => {\n",
       "        if (!(table instanceof HTMLTableElement))\n",
       "            return;\n",
       "\n",
       "        // Define the table data\n",
       "        const data = [[\"Disciplinary_failure\", 0.504273], [\"Work_load_Average/day_\", 0.038214], [\"Body_mass_index\", 0.037187], [\"Hit_target\", 0.030244], [\"Weight\", 0.029633], [\"Age\", 0.029303], [\"Height\", 0.027145], [\"Distance_from_Residence_to_Work\", 0.026955], [\"Transportation_expense\", 0.024661], [\"Pet\", 0.018566], [\"Day_of_the_week_3\", 0.017238], [\"Seasons_4\", 0.017189], [\"Month_of_absence_9\", 0.016707], [\"Service_time\", 0.016384], [\"Reason_for_absence_23\", 0.013991], [\"Seasons_3\", 0.013769], [\"Son\", 0.012576], [\"Day_of_the_week_5\", 0.012342], [\"Day_of_the_week_6\", 0.010636], [\"Social_smoker\", 0.009613], [\"Month_of_absence_10\", 0.00954], [\"Day_of_the_week_4\", 0.007208], [\"Seasons_2\", 0.006631], [\"Month_of_absence_5\", 0.005907], [\"Reason_for_absence_28\", 0.005871], [\"Month_of_absence_11\", 0.005778], [\"Month_of_absence_3\", 0.005609], [\"Social_drinker\", 0.005428], [\"Reason_for_absence_13\", 0.00513], [\"Month_of_absence_6\", 0.00383], [\"Education_2\", 0.003658], [\"Month_of_absence_4\", 0.003106], [\"Month_of_absence_7\", 0.003051], [\"Reason_for_absence_26\", 0.003042], [\"Reason_for_absence_14\", 0.002714], [\"Reason_for_absence_5\", 0.002118], [\"Reason_for_absence_22\", 0.002023], [\"Reason_for_absence_19\", 0.001602], [\"Reason_for_absence_10\", 0.001506], [\"Reason_for_absence_1\", 0.001332], [\"Month_of_absence_12\", 0.00124], [\"Month_of_absence_8\", 0.001226], [\"Reason_for_absence_24\", 0.001089], [\"Reason_for_absence_18\", 0.001049], [\"Reason_for_absence_11\", 0.00079], [\"Reason_for_absence_7\", 0.000747], [\"Education_3\", 0.000663], [\"Reason_for_absence_2\", 0.000357], [\"Reason_for_absence_21\", 0.000296], [\"Reason_for_absence_25\", 0.000295], [\"Reason_for_absence_6\", 0.000143], [\"Month_of_absence_1\", 0.000102], [\"Reason_for_absence_12\", 8.4e-05], [\"Reason_for_absence_27\", 8.2e-05], [\"Month_of_absence_2\", 5.8e-05], [\"Reason_for_absence_15\", 4.6e-05], [\"Reason_for_absence_4\", 1.9e-05], [\"Reason_for_absence_16\", 2e-06], [\"Reason_for_absence_9\", 2e-06], [\"Education_4\", 0.0], [\"Reason_for_absence_3\", 0.0], [\"Reason_for_absence_17\", 0.0], [\"Reason_for_absence_8\", 0.0]];\n",
       "\n",
       "        // Define the dt_args\n",
       "        let dt_args = {\"layout\": {\"topStart\": \"pageLength\", \"topEnd\": \"search\", \"bottomStart\": \"info\", \"bottomEnd\": \"paging\"}, \"order\": [], \"warn_on_selected_rows_not_rendered\": true};\n",
       "        dt_args[\"data\"] = data;\n",
       "\n",
       "        \n",
       "        new DataTable(table, dt_args);\n",
       "    });\n",
       "</script>\n"
      ],
      "text/plain": [
       "<IPython.core.display.HTML object>"
      ]
     },
     "metadata": {},
     "output_type": "display_data"
    }
   ],
   "source": [
    "# Plot feature importance\n",
    "plt.figure(figsize=(10, 6))\n",
    "plt.barh(important_features_df['Feature'][:10], important_features_df['Importance'][:10])\n",
    "plt.xlabel(\"Feature Importance\")\n",
    "plt.ylabel(\"Feature Name\")\n",
    "plt.title(\"Top 10 Important Features in Attendance Prediction\")\n",
    "plt.gca().invert_yaxis()  # Highest importance at the top\n",
    "plt.show()\n",
    "\n",
    "# Display feature importance table\n",
    "tools.display_dataframe_to_user(name=\"Feature Importance\", dataframe=important_features_df)\n"
   ]
  },
  {
   "cell_type": "markdown",
   "id": "0a8d6945-b608-4acc-a5cf-f4b519db4f17",
   "metadata": {},
   "source": [
    "## 4. Model deployment"
   ]
  },
  {
   "cell_type": "code",
   "execution_count": 32,
   "id": "e56dcf9b-4214-4097-bbd1-253bae463907",
   "metadata": {},
   "outputs": [],
   "source": [
    "# Import the basic libraries\n",
    "from fastapi import FastAPI\n",
    "from pydantic import BaseModel\n"
   ]
  },
  {
   "cell_type": "code",
   "execution_count": 33,
   "id": "25bb3bbc-5eec-454f-b4b8-811e7421d1cd",
   "metadata": {},
   "outputs": [],
   "source": [
    "# Load the trained model and scaler\n",
    "model_path = \"C:/Users/PATH TECH/OneDrive/Desktop/COURSES/Data science/Hands_on_ml/rf_model.joblib\"\n",
    "scaler_path = \"C:/Users/PATH TECH/OneDrive/Desktop/COURSES/Data science/Hands_on_ml/rf_model.joblib\"\n",
    "rf_model = joblib.load(model_path)\n",
    "scaler = joblib.load(scaler_path)\n",
    "\n",
    "# "
   ]
  },
  {
   "cell_type": "code",
   "execution_count": 1,
   "id": "a4fedf66-f520-4737-8dfd-909cce937a7c",
   "metadata": {},
   "outputs": [],
   "source": [
    "from fastapi import FastAPI\n",
    "from pydantic import BaseModel\n",
    "\n",
    "# Initialize FastAPI\n",
    "Employee_attendance = FastAPI()\n",
    "\n",
    "# Define input schema\n",
    "class AttendanceInput(BaseModel):\n",
    "    features: list\n",
    "\n",
    "@Employee_attendance.post(\"/predict\")\n",
    "def predict_attendance(data: AttendanceInput):\n",
    "    # Convert input list to NumPy array and reshape\n",
    "    input_data = np.array(data.features).reshape(1, -1)\n",
    "\n",
    "    # Scale input features\n",
    "    scaled_data = scaler.transform(input_data)\n",
    "\n",
    "    # Make prediction\n",
    "    prediction = rf_model.predict(scaled_data)\n",
    "\n",
    "    # Convert to human-readable output\n",
    "    result = \"Absent\" if prediction[0] == 1 else \"Present\"\n",
    "\n",
    "    return {\"attendance_prediction\": result}\n",
    "\n",
    "# Run the API using: uvicorn script_name:Employee_attendance --reload\n"
   ]
  }
 ],
 "metadata": {
  "kernelspec": {
   "display_name": "Python (my_project_env)",
   "language": "python",
   "name": "my_project_env"
  },
  "language_info": {
   "codemirror_mode": {
    "name": "ipython",
    "version": 3
   },
   "file_extension": ".py",
   "mimetype": "text/x-python",
   "name": "python",
   "nbconvert_exporter": "python",
   "pygments_lexer": "ipython3",
   "version": "3.12.9"
  }
 },
 "nbformat": 4,
 "nbformat_minor": 5
}
